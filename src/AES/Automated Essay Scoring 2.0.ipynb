{
 "cells": [
  {
   "metadata": {},
   "cell_type": "code",
   "execution_count": 20,
   "source": [
    "import pandas as pd\n",
    "import torch\n",
    "import torch.nn as nn\n",
    "import torch.optim as optim\n",
    "\n",
    "import nltk\n",
    "nltk.download('stopwords')"
   ],
   "id": "4efb5ac589a09aed",
   "outputs": []
  },
  {
   "metadata": {
    "ExecuteTime": {
     "end_time": "2024-05-25T00:24:04.834887Z",
     "start_time": "2024-05-25T00:24:04.625352Z"
    }
   },
   "cell_type": "code",
   "source": [
    "# Load the dataset\n",
    "data_path = '../../datasets/learning-agency-lab-automated-essay-scoring-2/train.csv'\n",
    "test_path = '../../datasets/learning-agency-lab-automated-essay-scoring-2/test.csv'\n",
    "data = pd.read_csv(data_path)\n",
    "test = pd.read_csv(test_path)\n",
    "submission = pd.read_csv(test_path)\n",
    "data.head(5)"
   ],
   "id": "fddfb5dbf7694fb0",
   "execution_count": 2,
   "outputs": []
  },
  {
   "metadata": {
    "ExecuteTime": {
     "end_time": "2024-05-25T00:24:07.779076Z",
     "start_time": "2024-05-25T00:24:07.418655Z"
    }
   },
   "cell_type": "code",
   "source": [
    "# text preprocessing\n",
    "import re\n",
    "def clean_text(text):\n",
    "    text = re.sub(r'[^\\w\\s]', '', text) # remove punctuation\n",
    "    text = text.lower() # lowercase text\n",
    "    text = text.replace('\\n', ' ') # remove new line\n",
    "    text = text.replace('&nbsp;', ' ') # remove html space\n",
    "    return text\n",
    "\n",
    "data['full_text'] = data['full_text'].apply(clean_text)\n",
    "test['full_text'] = test['full_text'].apply(clean_text)\n",
    "\n",
    "data.head(5)"
   ],
   "id": "1466211c9ec51a6c",
   "execution_count": 3,
   "outputs": []
  },
  {
   "metadata": {
    "ExecuteTime": {
     "end_time": "2024-05-25T00:24:09.880867Z",
     "start_time": "2024-05-25T00:24:09.384257Z"
    }
   },
   "cell_type": "code",
   "source": [
    "from nltk.corpus import stopwords\n",
    "# Tokenization\n",
    "stop_words = set(stopwords.words('english'))\n",
    "\n",
    "def tokenize(text):\n",
    "    tokens = text.split()\n",
    "    # filter out the stopwords\n",
    "    tokens = [word for word in tokens if word not in stop_words]\n",
    "    processed_tokens = ' '.join(tokens)\n",
    "    return processed_tokens\n",
    "\n",
    "data['full_text'] = data['full_text'].apply(tokenize)\n",
    "test['full_text'] = test['full_text'].apply(tokenize)\n",
    "\n",
    "data.head(5)"
   ],
   "id": "6c1f40f97cfb5d2e",
   "execution_count": 4,
   "outputs": []
  },
  {
   "metadata": {
    "ExecuteTime": {
     "end_time": "2024-05-25T00:24:16.650198Z",
     "start_time": "2024-05-25T00:24:11.292748Z"
    }
   },
   "cell_type": "code",
   "source": [
    "# train test split\n",
    "from sklearn.model_selection import train_test_split\n",
    "X = data['full_text']\n",
    "y = data['score']\n",
    "\n",
    "# vectorize the text\n",
    "from sklearn.feature_extraction.text import CountVectorizer\n",
    "vectorizer = CountVectorizer()\n",
    "X = vectorizer.fit_transform(X)\n",
    "X_train, X_test, y_train, y_test = train_test_split(X, y, test_size=0.2, random_state=42)\n",
    "\n",
    "# transform to tensor\n",
    "X_train_tensor = torch.tensor(X_train.toarray(), dtype=torch.float32)\n",
    "X_test_tensor = torch.tensor(X_test.toarray(), dtype=torch.float32)\n",
    "y_train_tensor = torch.tensor(y_train.values, dtype=torch.float32).view(-1, 1)\n",
    "y_test_tensor = torch.tensor(y_test.values, dtype=torch.float32).view(-1, 1)\n",
    "\n",
    "X_train_tensor.shape, y_train_tensor.shape"
   ],
   "id": "11aaa9ad38fc0e36",
   "execution_count": 5,
   "outputs": []
  },
  {
   "metadata": {
    "ExecuteTime": {
     "end_time": "2024-05-25T00:24:16.653564Z",
     "start_time": "2024-05-25T00:24:16.650703Z"
    }
   },
   "cell_type": "code",
   "source": [
    "# Build the model\n",
    "class NNModel (nn.Module):\n",
    "    def __init__(self):\n",
    "        super(NNModel, self).__init__()\n",
    "        self.fc1 = nn.Linear(X_train_tensor.shape[1], 128)\n",
    "        self.fc2 = nn.Linear(128, 64)\n",
    "        self.fc3 = nn.Linear(64, 32)\n",
    "        self.fc4 = nn.Linear(32, 1)\n",
    "        \n",
    "    def forward(self, x):\n",
    "        x = torch.relu(self.fc1(x))\n",
    "        x = torch.relu(self.fc2(x))\n",
    "        x = torch.relu(self.fc3(x))\n",
    "        x = self.fc4(x)\n",
    "        return x"
   ],
   "id": "79e5a4e4a2769947",
   "execution_count": 6,
   "outputs": []
  },
  {
   "metadata": {
    "ExecuteTime": {
     "end_time": "2024-05-25T00:24:17.323062Z",
     "start_time": "2024-05-25T00:24:16.654070Z"
    }
   },
   "cell_type": "code",
   "source": [
    "# Init the model, loss function and optimizer\n",
    "model = NNModel()\n",
    "\n",
    "criterion = nn.MSELoss()\n",
    "optimizer = optim.Adam(model.parameters(), lr=0.001)"
   ],
   "id": "dc819667915f26cf",
   "execution_count": 7,
   "outputs": []
  },
  {
   "metadata": {
    "ExecuteTime": {
     "end_time": "2024-05-25T00:28:24.350743Z",
     "start_time": "2024-05-25T00:24:17.323568Z"
    }
   },
   "cell_type": "code",
   "source": [
    "# train epochs\n",
    "\n",
    "epochs = 20\n",
    "batch_size = 32\n",
    "\n",
    "for epoch in range (epochs):\n",
    "    for i in range(0, len(X_train_tensor), batch_size):\n",
    "        X_batch = X_train_tensor[i:i+batch_size]\n",
    "        y_batch = y_train_tensor[i:i+batch_size]\n",
    "        \n",
    "        optimizer.zero_grad()\n",
    "        y_pred = model(X_batch)\n",
    "        loss = criterion(y_pred, y_batch)\n",
    "        loss.backward()\n",
    "        optimizer.step()\n",
    "        \n",
    "        \n",
    "    print(f'Epoch: {epoch + 1} Loss: {loss.item()}')"
   ],
   "id": "6b52fee7f92ca0a5",
   "execution_count": 8,
   "outputs": []
  },
  {
   "metadata": {
    "ExecuteTime": {
     "end_time": "2024-05-25T00:28:24.446007Z",
     "start_time": "2024-05-25T00:28:24.352246Z"
    }
   },
   "cell_type": "code",
   "source": [
    "# evaluate the model\n",
    "with torch.no_grad():\n",
    "    model.eval()\n",
    "    y_pred = model(X_test_tensor)\n",
    "    loss = criterion(y_pred, y_test_tensor)\n",
    "    print(f'Loss: {loss.item()}')"
   ],
   "id": "6512c4c586824f78",
   "execution_count": 9,
   "outputs": []
  },
  {
   "metadata": {
    "ExecuteTime": {
     "end_time": "2024-05-25T00:28:24.457313Z",
     "start_time": "2024-05-25T00:28:24.446511Z"
    }
   },
   "cell_type": "code",
   "source": [
    "# get the predictions\n",
    "import numpy as np\n",
    "X_test = test['full_text']\n",
    "X_test = vectorizer.transform(X_test)\n",
    "X_test_tensor = torch.tensor(X_test.toarray(), dtype=torch.float32)\n",
    "\n",
    "with torch.no_grad():\n",
    "    model.eval()\n",
    "    y_pred = model(X_test_tensor)\n",
    "    test['score'] = y_pred.numpy()\n",
    "    round_sores = np.round(test['score']).astype(int)\n",
    "    \n",
    "    # write the rounded scores to the submission file\n",
    "    submission['score'] = round_sores\n",
    "    \n",
    "submission.head(5)"
   ],
   "id": "c06ae1546122ee56",
   "execution_count": 10,
   "outputs": []
  },
  {
   "metadata": {
    "ExecuteTime": {
     "end_time": "2024-05-25T00:31:25.456789Z",
     "start_time": "2024-05-25T00:31:25.453640Z"
    }
   },
   "cell_type": "code",
   "source": [
    "# save the predictions to a csv file\n",
    "# create a submission file contains the origional test data and the predicted scores\n",
    "submission_path = '../datasets/learning-agency-lab-automated-essay-scoring-2/submission.csv'\n",
    "submission.to_csv(submission_path, index=False)"
   ],
   "id": "81c2bdbe111e4254",
   "execution_count": 13,
   "outputs": []
  }
 ],
 "metadata": {
  "kernelspec": {
   "display_name": "Python 3",
   "language": "python",
   "name": "python3"
  },
  "language_info": {
   "codemirror_mode": {
    "name": "ipython",
    "version": 2
   },
   "file_extension": ".py",
   "mimetype": "text/x-python",
   "name": "python",
   "nbconvert_exporter": "python",
   "pygments_lexer": "ipython2",
   "version": "2.7.6"
  }
 },
 "nbformat": 4,
 "nbformat_minor": 5
}
